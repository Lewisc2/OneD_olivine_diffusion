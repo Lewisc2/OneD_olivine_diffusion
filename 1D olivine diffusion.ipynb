{
 "cells": [
  {
   "cell_type": "code",
   "execution_count": 2,
   "id": "79b35ae6-1a41-4f23-8bc9-ab3055e34f15",
   "metadata": {},
   "outputs": [],
   "source": [
    "import numpy as np\n",
    "import pandas as pd\n",
    "import matplotlib.pyplot as plt"
   ]
  },
  {
   "cell_type": "code",
   "execution_count": 3,
   "id": "15e10700-6882-4c80-82dd-3d7f27aaf24c",
   "metadata": {},
   "outputs": [
    {
     "data": {
      "text/plain": [
       "<ErrorbarContainer object of 3 artists>"
      ]
     },
     "execution_count": 3,
     "metadata": {},
     "output_type": "execute_result"
    },
    {
     "data": {
      "image/png": "[encoded data removed]",
      "text/plain": [
       "<Figure size 720x432 with 1 Axes>"
      ]
     },
     "metadata": {
      "needs_background": "light"
     },
     "output_type": "display_data"
    }
   ],
   "source": [
    "path = '/Users/ctlewis/Library/Mobile Documents/com~apple~CloudDocs/Documents/Programs_Coding/to_JL.xlsx'\n",
    "sheet = 'Sheet1'\n",
    "sheetII = 'Sheet2'\n",
    "\n",
    "# import dataset\n",
    "data_costa = pd.read_excel(path,\n",
    "                     sheet_name=sheet)\n",
    "\n",
    "data_costaII = pd.read_excel(path,\n",
    "                     sheet_name=sheetII)\n",
    "\n",
    "# turn the data of interest into a 1D array\n",
    "Fo = data_costa.Fo\n",
    "FoII = data_costaII.Fo\n",
    "unc = 0.01 #uncertainty (please propogate)\n",
    "\n",
    "# set the resolution of your data (distance between spots) \n",
    "resolution = 5 # um\n",
    "L = np.linspace(0,(len(Fo)-1)*resolution,len(Fo)) # an array containing x data from start to finish\n",
    "                                                  # This is used for setting up your mesh later\n",
    "#plot measured profile\n",
    "fig,ax = plt.subplots(figsize=(10,6))\n",
    "ax.errorbar(L,Fo,yerr=unc,fmt='o',mfc='lime',mec='k',ecolor='k')"
   ]
  },
  {
   "cell_type": "code",
   "execution_count": 4,
   "id": "a35cfdf2-20ee-4a9e-84de-908745dc0768",
   "metadata": {},
   "outputs": [],
   "source": [
    "xth_spot = 11 # spots from the interior point to where you want your initial step function to be (python starts counting at 0)\n",
    "x_core = L[xth_spot] # core side\n",
    "dx = resolution\n",
    "x_core_mesh = int(x_core/dx) # the ith point in your x-value mesh that will diffuse\n",
    "\n",
    "C_core = Fo[xth_spot-1] # core side concentration\n",
    "C_rim = Fo[xth_spot] # rim side concentration\n",
    "\n",
    "#initial condition\n",
    "u_n = np.zeros(len(L)) # Creates an array of appropriate size to set your initial condition for concentration\n",
    "                        # This is u at the t-1 (i.e., previous) time. Also used to set initial condition\n",
    "u_n[:x_core_mesh] = C_core # Set a constant concentration on the core side of the crystal\n",
    "u_n[x_core_mesh:] = C_rim # Set a constant concentration on the rim side of the crystal\n",
    "\n",
    "def get_initialprofile(Fo,resolution,x_thspot):\n",
    "    \"\"\"\n",
    "    \"\"\"\n",
    "    L = np.linspace(0,(len(Fo)-1)*resolution,len(Fo))\n",
    "    x_core = L[xth_spot]\n",
    "    dx = resolution\n",
    "    x_core_mesh = int(xcore/dx)\n",
    "    C_core = Fo[xth_spot-1]\n",
    "    C_rim = Fo[xth_spot]\n",
    "    u_n = np.zeros(len(L))\n",
    "    u_n[:x_core_mesh] = C_core\n",
    "    u_n[x_core_mesh:] = C_rim\n",
    "    \n",
    "    return u_n"
   ]
  },
  {
   "cell_type": "code",
   "execution_count": 5,
   "id": "19c3f1c8-8911-4de9-9f47-61899e493286",
   "metadata": {},
   "outputs": [
    {
     "data": {
      "text/plain": [
       "[<matplotlib.lines.Line2D at 0x7f7af49c1e50>]"
      ]
     },
     "execution_count": 5,
     "metadata": {},
     "output_type": "execute_result"
    },
    {
     "data": {
      "image/png": "[encoded data removed]",
      "text/plain": [
       "<Figure size 720x432 with 1 Axes>"
      ]
     },
     "metadata": {
      "needs_background": "light"
     },
     "output_type": "display_data"
    }
   ],
   "source": [
    "# plot your data and the initial profile\n",
    "fig,ax = plt.subplots(figsize=(10,6))\n",
    "ax.errorbar(L,Fo,yerr=unc,fmt='o',mfc='lime',mec='k',ecolor='k')\n",
    "ax.errorbar(L,FoII,yerr=unc,fmt='o',mfc='red',mec='k',ecolor='k')\n",
    "ax.plot(L,u_n,'-',marker='o',color='slategray')"
   ]
  },
  {
   "cell_type": "code",
   "execution_count": 6,
   "id": "bf208441-172f-408a-8901-58ffb32eb515",
   "metadata": {},
   "outputs": [],
   "source": [
    "R = 8.3144 # Gas constant J K^-1 mol^-1\n",
    "T = (1200.0+273) # Temperature (K)\n",
    "Do = 10**(-9.21) # Initial Diffusion Coefficient m^2 s^-1\n",
    "E = 201000.0 # Activiation Energy J mol-1\n",
    "fo2 = 10**(-12) # fo2 in bar\n",
    "\n",
    "def diff_coef(Do, E, R, T, u_n):\n",
    "    \"\"\"\n",
    "    Calculate the diffusion coefficient\n",
    "    Assumed to follow an Arrhenius equations with a pre-exponential\n",
    "    for fo2. With corrections for units included, this goes as:\n",
    "    \n",
    "    Di = Do * [(fo2/10e-12)^(1/6) * 10^(3*(0.9-Ci)) * e^(-E/(R*10^(-3/T)))] * 10e12\n",
    "    \n",
    "    Do: Initial diffusion coefficent (m2 s-1)\n",
    "    E: Activation Energy (J mol-1)\n",
    "    R: Gas Constant (J K-1 mol-1)\n",
    "    T: Temperature (K)\n",
    "    fo2: Proportional to Pressure (bar)\n",
    "    \n",
    "    u_n: Initial data profile\n",
    "    \n",
    "    Returns Di in µ^2 / s-1\n",
    "    \n",
    "    \"\"\" \n",
    "    Di = ((Do*((fo2/10e-7)**(1/6))*(10**(3*((1-u_n)-0.1)))*np.exp(-E/(R*T))))*10e12\n",
    "    return Di\n",
    "\n",
    "Di = diff_coef(Do,E,R,T,u_n)"
   ]
  },
  {
   "cell_type": "code",
   "execution_count": 7,
   "id": "9bd9fb81-a466-4ae8-82ba-0e4a81367ea9",
   "metadata": {},
   "outputs": [],
   "source": [
    "# set up your time mesh that you will use to run the diffusion model\n",
    "def time_mesh(maxtime,iterations,timeunit='years'):\n",
    "    \"\"\"\n",
    "    Create a time mesh for your model.\n",
    "    Function converts your chosen unit into seconds in order to keep units consistent in\n",
    "    the function below.\n",
    "    \n",
    "    Inputs:\n",
    "    maxtime: The maximum amount of time you want the model to run\n",
    "    iterations: How many steps you want between the start time and Maxtime.\n",
    "    timeunit: The unit you used in the inputs above\n",
    "    \n",
    "    Returns\n",
    "    t: a 1D array that has your maxtime split by n+1 interations\n",
    "    \"\"\"\n",
    "    if timeunit == 'years':\n",
    "        step = 60 * 60 * 24 * 365.25\n",
    "    elif timeunit == 'months':\n",
    "        step = (60 * 60 * 24 * 365.25)/12\n",
    "    elif timeunit == 'days':\n",
    "        step = 60 * 60 * 24\n",
    "    elif timeunit == 'hours':\n",
    "        step = (60 * 60 * 24 * 365.25)/8760\n",
    "    elif timeunit == 'seconds':\n",
    "        step = (60 * 60 * 24 * 365.25)/3.154e7\n",
    "    \n",
    "    t = np.linspace(0,maxtime*step,int(iterations+1))\n",
    "    return t"
   ]
  },
  {
   "cell_type": "code",
   "execution_count": 38,
   "id": "47f29580-f635-469e-8ca2-37d390ebc2ed",
   "metadata": {},
   "outputs": [],
   "source": [
    "t = time_mesh(6780000,(6780000/60000),'seconds')"
   ]
  },
  {
   "cell_type": "code",
   "execution_count": 39,
   "id": "3c8698a5-99a7-4f97-9229-bb3d6eb4d0d3",
   "metadata": {},
   "outputs": [],
   "source": [
    "R = 8.3144 # Gas constant J K^-1 mol^-1\n",
    "T = (1200.0+273) # Temperature (K)\n",
    "Do = 10**(-9.21) # Initial Diffusion Coefficient m^2 s^-1\n",
    "E = 201000.0 # Activiation Energy J mol-1\n",
    "fo2 = 10**(-12) # fo2 in bar\n",
    "\n",
    "def diff_coef(Do, E, R, T, u_n):\n",
    "    \"\"\"\n",
    "    Calculate the diffusion coefficient\n",
    "    Assumed to follow an Arrhenius equations with a pre-exponential\n",
    "    for fo2. With corrections for units included, this goes as:\n",
    "    \n",
    "    Di = Do * [(fo2/10e-12)^(1/6) * 10^(3*(0.9-Ci)) * e^(-E/(R*10^(-3/T)))] * 10e12\n",
    "    \n",
    "    Do: Initial diffusion coefficent (m2 s-1)\n",
    "    E: Activation Energy (J mol-1)\n",
    "    R: Gas Constant (J K-1 mol-1)\n",
    "    T: Temperature (K)\n",
    "    fo2: Proportional to Pressure (bar)\n",
    "    \n",
    "    u_n: Initial data profile\n",
    "    \n",
    "    Returns Di in µ^2 / s-1\n",
    "    \n",
    "    \"\"\" \n",
    "    Di = ((Do*((fo2/10e-7)**(1/6))*(10**(3*((1-u_n)-0.1)))*np.exp(-E/(R*T))))*10e12\n",
    "    return Di\n",
    "\n",
    "Di = diff_coef(Do,E,R,T,u_n)"
   ]
  },
  {
   "cell_type": "code",
   "execution_count": 40,
   "id": "ea324cd4-fe70-4be7-93b1-c4dbbeadd7e7",
   "metadata": {},
   "outputs": [],
   "source": [
    "def olivine_diffusion_1D(Fo,resolution,xth_spot,t,Do,E,R,T,boundary='closed',C_core='default',C_rim='default'):\n",
    "    \"\"\"\n",
    "    Run a 1D olivine diffusion model based on a forward Euler scheme with a boundary condition determined by the user.\n",
    "    In the simplest since, the model solves u for matrices of type A * u = b, \n",
    "    where u is unknown, A is a matrix of mesh points in the x (nx) and time (nt) dimensions, \n",
    "    and b is vector of knowns that gets updated as time moves forward.\n",
    "    \n",
    "    The forward Euler scheme is the forward finite difference scheme of Fick's second law:\n",
    "    \n",
    "    d/dt C(x,t) = D d/dx^2 C(x,t)\n",
    "    \n",
    "    where t is time, x is distance, D is the diffusion coefficient, and C(x,t) is the concentration as a function\n",
    "    of distance and time. If you wish to have an open boundary with the diffiusion coefficient dependent on the\n",
    "    concentration, this goes as:\n",
    "    \n",
    "    d/dt C(x,t) = d/dx D d/dx C(x,t) + D d/dx^2 C(x,t)\n",
    "    \n",
    "    Inputs:\n",
    "    Fo: Slice of a Pandas dataframe or python list containing your olivine data\n",
    "    Resolution: Distance between measurements on your crystal (µm)\n",
    "    xth_spot: The spot from the interior (core) point where you want the step function to be located. Note python\n",
    "              starts counting at zero.\n",
    "    t: A 1d array that is output from the time_mesh function above\n",
    "    Do: The measured diffusion coefficent (m s^-2)\n",
    "    E: Activation energy (J mol^-1)\n",
    "    R: Gas Constant (J K^-1 mol^-1)\n",
    "    T: Temperature (K)\n",
    "    fo2: Proportional to pressure (bar)\n",
    "    u_n: Initial data profile output from the function above\n",
    "    boundary: Closed or open. See equations above. Default is closed.\n",
    "    C_core: Boundary condition for the concentration at the core side of your crystal. If you input a value, this is\n",
    "            the boundary condition for recalculating Di at each timestep. The default is the Fo concentration at the\n",
    "            x_thspot you input above\n",
    "    C_rim: Similar to C_core but for the next distance step forward.\n",
    "    \n",
    "    Returns:\n",
    "    F: The mesh Fourier number. This is a measure of your numerical stability. You will get an error warning you if\n",
    "       the numerical model is unstable.\n",
    "    solutions: A set of numpy arrays containing the concentration solution for each timestep\n",
    "    Di_arrays: A set of numpy arrays containing the solutions to the Di at each timestep\n",
    "    \"\"\"\n",
    "    #Fo = Fo.to_numpy() # Fo content for olivine\n",
    "\n",
    "    L = np.linspace(0,(len(Fo)-1)*resolution,len(Fo))\n",
    "    nx = len(L)\n",
    "    dx = L[1] - L[0]\n",
    "    x_core = L[xth_spot]\n",
    "    x_core_mesh = int(x_core/dx)\n",
    "    \n",
    "    dt = t[1] - t[0]\n",
    "    iterations = len(t)-1\n",
    "    nt = len(t)\n",
    "    \n",
    "    solutions = np.zeros((nt,nx))\n",
    "    Di_arrays = np.zeros((nt,nx))\n",
    "    u = np.zeros(len(L))\n",
    "    \n",
    "    if boundary == 'closed':\n",
    "        if C_core == 'default':\n",
    "            C_core = Fo[xth_spot-1]\n",
    "        elif C_core > 0:\n",
    "            Fo[0] = C_core\n",
    "        if C_rim == 'default':\n",
    "            C_rim = Fo[xth_spot]\n",
    "        elif C_rim > 0:\n",
    "            Fo[-1] = C_rim\n",
    "        \n",
    "        u_n = np.zeros(len(L))\n",
    "        u_n[:x_core_mesh] = C_core\n",
    "        u_n[x_core_mesh:] = C_rim\n",
    "        \n",
    "        Di = ((Do*((fo2/10e-7)**(1/6))*(10**(3*((1-u_n)-0.1)))*np.exp(-E/(R*T))))*10e12\n",
    "        \n",
    "        for i in range(0,int(nt)):\n",
    "            import time; t0 = time.perf_counter()\n",
    "            u[1:nx-1] = u_n[1:nx-1] + ((Di[2:nx]-Di[1:nx-1])*(u_n[2:nx]-u_n[1:nx-1])+Di[1:nx-1]*(u_n[2:nx]-2*u_n[1:nx-1]+u_n[0:nx-2]))*(dt/(dx**2))\n",
    "            u[0] = C_core; u[-1] = C_rim\n",
    "            solutions[i,:] = u\n",
    "            u_n[:] = u\n",
    "            t1 = time.perf_counter()\n",
    "    elif boundary == 'open':\n",
    "        Fo[0] = C_core\n",
    "        Fo[-1] = C_rim\n",
    "        \n",
    "        u_n = np.zeros(len(L))\n",
    "        u_n[:x_core_mesh] = C_core\n",
    "        u_n[x_core_mesh:] = C_rim\n",
    "        \n",
    "        Di = ((Do*((fo2/10e-7)**(1/6))*(10**(3*((1-u_n)-0.1)))*np.exp(-E/(R*T))))*10e12\n",
    "        \n",
    "        for i in range(0,int(nt)):\n",
    "            import time; t0 = time.perf_counter()\n",
    "            u[1:nx-1] = u_n[1:nx-1] + ((Di[2:nx]-Di[1:nx-1])*(u_n[2:nx]-u_n[1:nx-1])+Di[1:nx-1]*(u_n[2:nx]-2*u_n[1:nx-1]+u_n[0:nx-2]))*(dt/(dx**2))\n",
    "            u[0] = C_core; u[-1] = C_rim\n",
    "            solutions[i,:] = u\n",
    "            u_n[:] = u\n",
    "            Di = ((Do*((fo2/10e-7)**(1/6))*(10**(3*((1-u)-0.1)))*np.exp(-E/(R*T))))*10e12\n",
    "            Di_arrays[i,:] = Di\n",
    "            t1 = time.perf_counter()\n",
    "\n",
    "    F = max(Di)*dt/dx**2\n",
    "    if F > 0.5:\n",
    "        print('Mesh Fourier Number is too high causing instability in the model. Decrease dt')\n",
    "\n",
    "    return solutions, F, Di_arrays"
   ]
  },
  {
   "cell_type": "code",
   "execution_count": 41,
   "id": "7021ef2b-8fa3-47a7-a661-7273473e9ead",
   "metadata": {},
   "outputs": [],
   "source": [
    "# def olivine_diffusion_1D(Fo,resolution,xth_spot,t,Do,E,R,T,u_n,boundary='closed',C_core='default',C_rim='default'):\n",
    "\n",
    "# def diff_coef(Do, E, R, T, u_n):\n",
    "R = 8.3144 # Gas constant J K^-1 mol^-1\n",
    "T = (1200.0+273) # Temperature (K)\n",
    "Do = 10**(-9.21) # Initial Diffusion Coefficient m^2 s^-1\n",
    "E = 201000.0 # Activiation Energy J mol-1\n",
    "fo2 = 10**(-12) # fo2 in bar\n",
    "\n",
    "#%timeit F, solutions, Di_arrays = olivine_diffusion_1D(Fo,5,11,t,Do,E,R,T,u_n,boundary='closed')\n",
    "solutions, F, Di_arrays = olivine_diffusion_1D(FoII,5,11,t,Do,E,R,T,boundary='closed')"
   ]
  },
  {
   "cell_type": "code",
   "execution_count": 43,
   "id": "c5630d3c-868e-4946-8cff-cb02cc7ab680",
   "metadata": {},
   "outputs": [],
   "source": [
    "def least_squaredresiduals(solutions,Fo):\n",
    "    \"\"\"\n",
    "    Function for finding the best fit by least squared residuals\n",
    "    ---\n",
    "    Inputs:\n",
    "    solutions: numpy array output from the diffusion model\n",
    "    Fo: your data. Same input as that you used for the diffusion model\n",
    "    \"\"\"\n",
    "    \n",
    "    from scipy.signal import argrelextrema # import package to find local minima / maxima\n",
    "    \n",
    "    L = np.linspace(0,(len(Fo)-1)*resolution,len(Fo)) # make an array\n",
    "    nx = len(L) # set the length over which you will calculate the least squares\n",
    "    \n",
    "    least_residuals_fit = np.zeros_like(solutions) # make an array of zeros to be filled by the function below\n",
    "    \n",
    "    # make a loop to calculate the least squares. this iterates through all sets of solutions (i) that were calculated\n",
    "    # at time t_i along the length of your diffusion profile (nx, above; defined as the kth spot below)\n",
    "    for i in range(0,len(solutions)):\n",
    "        for k in range(0,int(nx)):\n",
    "            least_residuals_fit[i,k] = (solutions[i,k]-Fo[k])**2 / Fo[k]\n",
    "    \n",
    "    summed_residuals = np.sum(least_residuals_fit,axis=1) # sum calculated squared residuals along the length of solutions\n",
    "    min_residuals = np.min(summed_residuals) # find the solution with the minimum residual\n",
    "    locbestfit = np.argwhere(summed_residuals == min_residuals).item() # locate which solution that is\n",
    "    bestfit_solution = solutions[locbestfit] # set that solution as the 'best fit solution'\n",
    "    \n",
    "    # Flag your solution sets to see if there are local minima. May need to make a judgement call if so\n",
    "    localminima = summed_residuals[argrelextrema(summed_residuals, np.less)[0]]\n",
    "    if len(localminima) > 1:\n",
    "        print('You have more than one minima. You need to manually check all local minima to determine best fit')\n",
    "    \n",
    "    return min_residuals, bestfit_solution, locbestfit, summed_residuals, localminima\n",
    "\n",
    "#%timeit min_residuals, bestfit_solution, locbestfit, summed_residuals, localminima = least_squaredresiduals(solutions,Fo)\n",
    "min_residuals, bestfit_solution, locbestfit, summed_residuals, localminima = least_squaredresiduals(solutions,FoII)"
   ]
  },
  {
   "cell_type": "code",
   "execution_count": 49,
   "id": "6385355e-2c3b-4d61-881b-0697fa9cf4b0",
   "metadata": {},
   "outputs": [
    {
     "data": {
      "text/plain": [
       "0.0"
      ]
     },
     "execution_count": 49,
     "metadata": {},
     "output_type": "execute_result"
    },
    {
     "data": {
      "image/png": "[encoded data removed]",
      "text/plain": [
       "<Figure size 432x288 with 1 Axes>"
      ]
     },
     "metadata": {
      "needs_background": "light"
     },
     "output_type": "display_data"
    }
   ],
   "source": [
    "for i in range(0,len(summed_residuals)):\n",
    "    plt.plot(t,summed_residuals)\n",
    "plt.plot([t[locbestfit],t[locbestfit]],[min(summed_residuals)-0.0001,min(summed_residuals)+0.0001],'-')\n",
    "#plt.ylim(0.038,0.042)\n",
    "#plt.xlim(0,1e6)\n",
    "t[locbestfit]"
   ]
  },
  {
   "cell_type": "code",
   "execution_count": 50,
   "id": "f0e7d711-b0d0-4ab2-8c03-89f72df6f744",
   "metadata": {},
   "outputs": [
    {
     "name": "stdout",
     "output_type": "stream",
     "text": [
      "[[0.79       0.79       0.79       ... 0.795      0.795      0.795     ]\n",
      " [0.79       0.79       0.79       ... 0.795      0.795      0.795     ]\n",
      " [0.79       0.79       0.79       ... 0.795      0.795      0.795     ]\n",
      " ...\n",
      " [0.79       0.79019218 0.7903882  ... 0.795      0.795      0.795     ]\n",
      " [0.79       0.79019308 0.79038993 ... 0.795      0.795      0.795     ]\n",
      " [0.79       0.79019397 0.79039163 ... 0.795      0.795      0.795     ]]\n"
     ]
    }
   ],
   "source": [
    "print(solutions)"
   ]
  },
  {
   "cell_type": "code",
   "execution_count": 51,
   "id": "026a7738-ec5d-4720-858d-4d7cf66515bd",
   "metadata": {},
   "outputs": [
    {
     "data": {
      "image/png": "[encoded data removed]",
      "text/plain": [
       "<Figure size 432x288 with 1 Axes>"
      ]
     },
     "metadata": {
      "needs_background": "light"
     },
     "output_type": "display_data"
    }
   ],
   "source": [
    "for i in range(0,len(solutions)):\n",
    "    plt.plot(L,solutions[i,:])\n",
    "    plt.plot(L,Fo)"
   ]
  },
  {
   "cell_type": "code",
   "execution_count": 52,
   "id": "1cd338af-939d-43a6-bb62-5b81135a728c",
   "metadata": {},
   "outputs": [
    {
     "data": {
      "image/png": "[encoded data removed]",
      "text/plain": [
       "<Figure size 432x288 with 1 Axes>"
      ]
     },
     "metadata": {
      "needs_background": "light"
     },
     "output_type": "display_data"
    }
   ],
   "source": [
    "for i in range(0,len(Di_arrays)):\n",
    "    plt.plot(L,Di_arrays[i,:])\n",
    "    #plt.plot(L,Fo)"
   ]
  },
  {
   "cell_type": "code",
   "execution_count": null,
   "id": "6dc7b93a-b664-4568-a247-889011067702",
   "metadata": {},
   "outputs": [],
   "source": []
  }
 ],
 "metadata": {
  "kernelspec": {
   "display_name": "Python 3 (ipykernel)",
   "language": "python",
   "name": "python3"
  },
  "language_info": {
   "codemirror_mode": {
    "name": "ipython",
    "version": 3
   },
   "file_extension": ".py",
   "mimetype": "text/x-python",
   "name": "python",
   "nbconvert_exporter": "python",
   "pygments_lexer": "ipython3",
   "version": "3.9.7"
  }
 },
 "nbformat": 4,
 "nbformat_minor": 5
}
